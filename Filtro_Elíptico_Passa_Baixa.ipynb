{
  "nbformat": 4,
  "nbformat_minor": 0,
  "metadata": {
    "colab": {
      "name": "Aula_10-Tarefa_1_Filtro_Elíptico_Passa-Baixa.ipynb",
      "provenance": [],
      "authorship_tag": "ABX9TyPVCP2Qw1Za5htP7oOb8aaZ",
      "include_colab_link": true
    },
    "kernelspec": {
      "name": "python3",
      "display_name": "Python 3"
    }
  },
  "cells": [
    {
      "cell_type": "markdown",
      "metadata": {
        "id": "view-in-github",
        "colab_type": "text"
      },
      "source": [
        "<a href=\"https://colab.research.google.com/github/Guiimartinho/6-bits-conter-FFJK-Master-Slave/blob/master/Filtro_El%C3%ADptico_Passa_Baixa.ipynb\" target=\"_parent\"><img src=\"https://colab.research.google.com/assets/colab-badge.svg\" alt=\"Open In Colab\"/></a>"
      ]
    },
    {
      "cell_type": "code",
      "metadata": {
        "id": "UvB_LKaaL0Wt"
      },
      "source": [
        "from scipy import signal\n",
        "import matplotlib.pyplot as plt\n",
        "import matplotlib.ticker\n",
        "import numpy as np"
      ],
      "execution_count": null,
      "outputs": []
    },
    {
      "cell_type": "code",
      "metadata": {
        "id": "7sgocC2WQpLe"
      },
      "source": [
        "fs = 10000\n",
        "wp = 2000/fs\n",
        "ws = 6000/fs\n",
        "gpass = 1\n",
        "gstop = 20"
      ],
      "execution_count": null,
      "outputs": []
    },
    {
      "cell_type": "code",
      "metadata": {
        "id": "xmt9_yrvThG3"
      },
      "source": [
        "b, a = signal.iirdesign(wp, ws, gpass, gstop, analog=False, ftype='ellip')\n",
        "w, h = signal.freqz(b,a)"
      ],
      "execution_count": null,
      "outputs": []
    },
    {
      "cell_type": "code",
      "metadata": {
        "colab": {
          "base_uri": "https://localhost:8080/",
          "height": 296
        },
        "id": "U5DeRV6zT01Y",
        "outputId": "0b6fb1c9-c0f9-4629-d455-dc27ebd553cd"
      },
      "source": [
        "fig, ax1 = plt.subplots()\n",
        "ax1.set_title('Resposta em Frequencia do Filtro Digital')\n",
        "ax1.plot(w*20/(np.pi), abs(h), 'b')\n",
        "ax1.set_ylabel('Magnitude', color='b')\n",
        "ax1.set_xlabel('Frequência [kHz]')\n",
        "ax1.grid()\n",
        "ax1.set_ylim([0, 1.01])\n",
        "ax1.set_xlim([0, 10])\n",
        "nticks = 8\n",
        "ax1.yaxis.set_major_locator(matplotlib.ticker.LinearLocator(nticks))\n",
        "fig.show()"
      ],
      "execution_count": null,
      "outputs": [
        {
          "output_type": "display_data",
          "data": {
            "image/png": "[encoded data removed]",
            "text/plain": [
              "<Figure size 432x288 with 1 Axes>"
            ]
          },
          "metadata": {
            "tags": [],
            "needs_background": "light"
          }
        }
      ]
    },
    {
      "cell_type": "code",
      "metadata": {
        "colab": {
          "base_uri": "https://localhost:8080/"
        },
        "id": "-_P--wdyczAl",
        "outputId": "2d763950-a82f-4dd6-b231-5b358f41f6f1"
      },
      "source": [
        "b"
      ],
      "execution_count": null,
      "outputs": [
        {
          "output_type": "execute_result",
          "data": {
            "text/plain": [
              "array([0.14317804, 0.01165796, 0.14317804])"
            ]
          },
          "metadata": {
            "tags": []
          },
          "execution_count": 17
        }
      ]
    },
    {
      "cell_type": "code",
      "metadata": {
        "id": "mBvkDqEhc304",
        "colab": {
          "base_uri": "https://localhost:8080/"
        },
        "outputId": "fe66ba53-7861-48d0-c31a-61002f54f46d"
      },
      "source": [
        "a"
      ],
      "execution_count": null,
      "outputs": [
        {
          "output_type": "execute_result",
          "data": {
            "text/plain": [
              "array([ 1.        , -1.20619312,  0.54057037])"
            ]
          },
          "metadata": {
            "tags": []
          },
          "execution_count": 18
        }
      ]
    }
  ]
}